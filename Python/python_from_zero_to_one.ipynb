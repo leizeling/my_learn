{
 "cells": [
  {
   "cell_type": "markdown",
   "metadata": {},
   "source": [
    "# 01基础篇"
   ]
  },
  {
   "cell_type": "markdown",
   "metadata": {},
   "source": [
    "# 变量"
   ]
  },
  {
   "cell_type": "code",
   "execution_count": 1,
   "metadata": {
    "collapsed": false
   },
   "outputs": [
    {
     "name": "stdout",
     "output_type": "stream",
     "text": [
      "one= 1\n",
      "some_number 100\n"
     ]
    }
   ],
   "source": [
    "#int\n",
    "one=1\n",
    "some_number=100\n",
    "\n",
    "print(\"one=\",one)   #print type1\n",
    "print(\"some_number\",some_number)   #python3 print need add ()"
   ]
  },
  {
   "cell_type": "code",
   "execution_count": 2,
   "metadata": {
    "collapsed": false
   },
   "outputs": [
    {
     "name": "stdout",
     "output_type": "stream",
     "text": [
      "true_boolean: True\n",
      "False_boolean; False\n"
     ]
    }
   ],
   "source": [
    "#booleans\n",
    "true_boolean=True\n",
    "false_boolean=False\n",
    "\n",
    "print(\"true_boolean:\",true_boolean)\n",
    "print(\"False_boolean;\",false_boolean)"
   ]
  },
  {
   "cell_type": "code",
   "execution_count": 3,
   "metadata": {
    "collapsed": false
   },
   "outputs": [
    {
     "name": "stdout",
     "output_type": "stream",
     "text": [
      "my_name:leizeling\n"
     ]
    }
   ],
   "source": [
    "#string\n",
    "my_name=\"leizeling\"\n",
    "\n",
    "print(\"my_name:{}\".format(my_name))    #print type2"
   ]
  },
  {
   "cell_type": "code",
   "execution_count": 4,
   "metadata": {
    "collapsed": false
   },
   "outputs": [
    {
     "name": "stdout",
     "output_type": "stream",
     "text": [
      "book_price:15.8\n"
     ]
    }
   ],
   "source": [
    "#float\n",
    "book_price=15.80\n",
    "\n",
    "print(\"book_price:{}\".format(book_price))"
   ]
  },
  {
   "cell_type": "markdown",
   "metadata": {},
   "source": [
    "# 控制流：条件语句"
   ]
  },
  {
   "cell_type": "code",
   "execution_count": 5,
   "metadata": {
    "collapsed": false
   },
   "outputs": [
    {
     "name": "stdout",
     "output_type": "stream",
     "text": [
      "Hollo Python if\n",
      "2 is greater than 1\n"
     ]
    }
   ],
   "source": [
    "#if\n",
    "if True:\n",
    "    print(\"Hollo Python if\")\n",
    "if 2>1:\n",
    "    print(\"2 is greater than 1\")"
   ]
  },
  {
   "cell_type": "code",
   "execution_count": 6,
   "metadata": {
    "collapsed": false
   },
   "outputs": [
    {
     "name": "stdout",
     "output_type": "stream",
     "text": [
      "1 is not greater than 2\n"
     ]
    }
   ],
   "source": [
    "#if……else\n",
    "if 1>2:\n",
    "    print(\"1 is greater than 2\")\n",
    "else:\n",
    "    print(\"1 is not greater than 2\")"
   ]
  },
  {
   "cell_type": "code",
   "execution_count": 7,
   "metadata": {
    "collapsed": false
   },
   "outputs": [
    {
     "name": "stdout",
     "output_type": "stream",
     "text": [
      "1 is not greater than 2\n"
     ]
    }
   ],
   "source": [
    "#if……elif……else\n",
    "if 1>2:\n",
    "    print(\"1 is greater than 2\")\n",
    "elif 1<2:\n",
    "    print(\"1 is not greater than 2\")\n",
    "else:\n",
    "    print(\"1 is equal to 2\")"
   ]
  },
  {
   "cell_type": "markdown",
   "metadata": {},
   "source": [
    "# 循环/迭代器"
   ]
  },
  {
   "cell_type": "code",
   "execution_count": 8,
   "metadata": {
    "collapsed": false
   },
   "outputs": [
    {
     "name": "stdout",
     "output_type": "stream",
     "text": [
      "1\n",
      "2\n",
      "3\n",
      "4\n",
      "5\n",
      "6\n",
      "7\n",
      "8\n",
      "9\n",
      "10\n"
     ]
    }
   ],
   "source": [
    "#while\n",
    "num=1\n",
    "while num<=10:\n",
    "    print(num)\n",
    "    num+=1"
   ]
  },
  {
   "cell_type": "code",
   "execution_count": 9,
   "metadata": {
    "collapsed": false
   },
   "outputs": [
    {
     "name": "stdout",
     "output_type": "stream",
     "text": [
      "1\n",
      "2\n",
      "3\n",
      "4\n",
      "5\n",
      "6\n",
      "7\n",
      "8\n",
      "9\n",
      "10\n"
     ]
    }
   ],
   "source": [
    "#for\n",
    "for i in range(1,11):#range(start,end,step),not including end\n",
    "    print(i)"
   ]
  },
  {
   "cell_type": "markdown",
   "metadata": {
    "collapsed": true
   },
   "source": [
    "# 02列表：数组数据结构"
   ]
  },
  {
   "cell_type": "code",
   "execution_count": 10,
   "metadata": {
    "collapsed": false
   },
   "outputs": [
    {
     "name": "stdout",
     "output_type": "stream",
     "text": [
      "1\n",
      "2\n",
      "5\n"
     ]
    }
   ],
   "source": [
    "#create  integers list\n",
    "my_integers=[1,2,3,4,5]\n",
    "print(my_integers[0])\n",
    "print(my_integers[1])\n",
    "print(my_integers[4])"
   ]
  },
  {
   "cell_type": "code",
   "execution_count": 11,
   "metadata": {
    "collapsed": false
   },
   "outputs": [
    {
     "name": "stdout",
     "output_type": "stream",
     "text": [
      "['Toshiaki', 'Juliana', 'Yuji', 'Bruno', 'Kaio']\n"
     ]
    }
   ],
   "source": [
    "#create str list\n",
    "relatives_name=[\"Toshiaki\",\"Juliana\",\"Yuji\",\"Bruno\",\"Kaio\"]\n",
    "print(relatives_name)"
   ]
  },
  {
   "cell_type": "code",
   "execution_count": 12,
   "metadata": {
    "collapsed": false
   },
   "outputs": [
    {
     "name": "stdout",
     "output_type": "stream",
     "text": [
      "The Effective Engineer\n",
      "The 4 Hour Work Week\n"
     ]
    }
   ],
   "source": [
    "#add item to list\n",
    "bookshelf=[]\n",
    "bookshelf.append(\"The Effective Engineer\")\n",
    "bookshelf.append(\"The 4 Hour Work Week\")\n",
    "print(bookshelf[0])\n",
    "print(bookshelf[1])"
   ]
  },
  {
   "cell_type": "markdown",
   "metadata": {},
   "source": [
    "# 03字典：键-值数据结构"
   ]
  },
  {
   "cell_type": "code",
   "execution_count": 13,
   "metadata": {
    "collapsed": false
   },
   "outputs": [
    {
     "data": {
      "text/plain": [
       "{'key1': 'value1', 'key2': 'value2', 'key3': 'value3'}"
      ]
     },
     "execution_count": 13,
     "metadata": {},
     "output_type": "execute_result"
    }
   ],
   "source": [
    "#dictionary struct\n",
    "dictionary_example={\"key1\":\"value1\",\"key2\":\"value2\",\"key3\":\"value3\"}\n",
    "dictionary_example"
   ]
  },
  {
   "cell_type": "code",
   "execution_count": 14,
   "metadata": {
    "collapsed": false
   },
   "outputs": [
    {
     "name": "stdout",
     "output_type": "stream",
     "text": [
      "My name is Leandro\n",
      "But you can call me Tk\n",
      "And by the waay I am Brazilian\n"
     ]
    }
   ],
   "source": [
    "#create dictionary\n",
    "dictionary_tk={\"name\":\"Leandro\",\"nickname\":\"Tk\",\"nationality\":\"Brazilian\"}\n",
    "print(\"My name is %s\"%(dictionary_tk[\"name\"]))\n",
    "print(\"But you can call me %s\"%(dictionary_tk[\"nickname\"]))\n",
    "print(\"And by the waay I am {}\".format(dictionary_tk[\"nationality\"]))"
   ]
  },
  {
   "cell_type": "code",
   "execution_count": 15,
   "metadata": {
    "collapsed": false
   },
   "outputs": [
    {
     "name": "stdout",
     "output_type": "stream",
     "text": [
      "{'nationality': 'Brazilian', 'nickname': 'Tk', 'name': 'Leandro', 'age': 24}\n"
     ]
    }
   ],
   "source": [
    "#dictionary add item\n",
    "dictionary_tk[\"age\"]=24\n",
    "print(dictionary_tk)"
   ]
  },
  {
   "cell_type": "code",
   "execution_count": 16,
   "metadata": {
    "collapsed": false
   },
   "outputs": [
    {
     "name": "stdout",
     "output_type": "stream",
     "text": [
      "{'nationality': 'Brazilian', 'nickname': 'Tk', 'name': 'Leandro'}\n"
     ]
    }
   ],
   "source": [
    "#dictionayr del item\n",
    "dictionary_tk.pop(\"age\")\n",
    "print(dictionary_tk)"
   ]
  },
  {
   "cell_type": "markdown",
   "metadata": {},
   "source": [
    "# 04迭代：数据结构中的循环"
   ]
  },
  {
   "cell_type": "code",
   "execution_count": 17,
   "metadata": {
    "collapsed": false
   },
   "outputs": [
    {
     "name": "stdout",
     "output_type": "stream",
     "text": [
      "The Effective Engineer\n",
      "The 4 hours work week\n",
      "Zero to One\n",
      "Lean Startup\n",
      "Hooked\n"
     ]
    }
   ],
   "source": [
    "#iteration of list\n",
    "bookshelf=[\"The Effective Engineer\",\"The 4 hours work week\",\"Zero to One\",\"Lean Startup\",\"Hooked\"]\n",
    "for book in bookshelf:\n",
    "    print(book)"
   ]
  },
  {
   "cell_type": "code",
   "execution_count": 18,
   "metadata": {
    "collapsed": false
   },
   "outputs": [
    {
     "name": "stdout",
     "output_type": "stream",
     "text": [
      "nationality:Brazilian\n",
      "nickname:Tk\n",
      "name:Leandro\n",
      "===================\n",
      "nationality:Brazilian\n",
      "nickname:Tk\n",
      "name:Leandro\n"
     ]
    }
   ],
   "source": [
    "#哈希数据结构（iteration of dictionary）\n",
    "dictionary_tk={\"name\":\"Leandro\",\"nickname\":\"Tk\",\"nationality\":\"Brazilian\"}\n",
    "for key in dictionary_tk:  #the attribute can use any name,not only use \"key\"\n",
    "    print(\"%s:%s\"%(key,dictionary_tk[key])) \n",
    "print(\"===================\")\n",
    "for key,val in dictionary_tk.items():  #attention:this is use dictionary_tk.items().not direct use dictionary_tk\n",
    "    print(\"{}:{}\".format(key,val))"
   ]
  },
  {
   "cell_type": "markdown",
   "metadata": {},
   "source": [
    "# 05 类和对象"
   ]
  },
  {
   "cell_type": "code",
   "execution_count": 19,
   "metadata": {
    "collapsed": true
   },
   "outputs": [],
   "source": [
    "#define class\n",
    "class Vechicle:\n",
    "    pass"
   ]
  },
  {
   "cell_type": "code",
   "execution_count": 20,
   "metadata": {
    "collapsed": false
   },
   "outputs": [
    {
     "name": "stdout",
     "output_type": "stream",
     "text": [
      "<__main__.Vechicle object at 0x000000E3014EED30>\n"
     ]
    }
   ],
   "source": [
    "#create instance\n",
    "car=Vechicle()\n",
    "print(car)"
   ]
  },
  {
   "cell_type": "code",
   "execution_count": 21,
   "metadata": {
    "collapsed": false
   },
   "outputs": [
    {
     "data": {
      "text/plain": [
       "8"
      ]
     },
     "execution_count": 21,
     "metadata": {},
     "output_type": "execute_result"
    }
   ],
   "source": [
    "#define class\n",
    "class Vechicle(object):#object is a base class\n",
    "    def __init__(self,number_of_wheels,type_of_tank,seating_capacity,maximum_velocity):\n",
    "        self.number_of_wheels=number_of_wheels\n",
    "        self.type_of_tank=type_of_tank\n",
    "        self.seating_capacity=seating_capacity\n",
    "        self.maximum_velocity=maximum_velocity\n",
    "    def get_number_of_wheels(self):\n",
    "        return self.number_of_wheels\n",
    "    def set_number_of_wheels(self,number):\n",
    "        self.number_of_wheels=number\n",
    "\n",
    "#create instance(object)\n",
    "tesla_models_s=Vechicle(4,\"electric\",5,250)\n",
    "tesla_models_s.set_number_of_wheels(8)#方法的调用显得复杂\n",
    "tesla_models_s.get_number_of_wheels()"
   ]
  },
  {
   "cell_type": "code",
   "execution_count": 22,
   "metadata": {
    "collapsed": false
   },
   "outputs": [
    {
     "name": "stdout",
     "output_type": "stream",
     "text": [
      "4\n",
      "2\n",
      "VRUUUUUUUM\n",
      "None\n"
     ]
    }
   ],
   "source": [
    "#use @property让方法像属性一样使用\n",
    "#define class\n",
    "class Vechicle_1(object):#object is a base class\n",
    "    def __init__(self,number_of_wheels,type_of_tank,seating_capacity,maximum_velocity):#first attr must is self,do not input the attr\n",
    "        self._number_of_wheels=number_of_wheels   ###属性名和方法名不要重复\n",
    "        self.type_of_tank=type_of_tank\n",
    "        self.seating_capacity=seating_capacity\n",
    "        self.maximum_velocity=maximum_velocity\n",
    "    @property #读属性\n",
    "    def number_of_wheels(self):\n",
    "        return self._number_of_wheels\n",
    "    @number_of_wheels.setter #写属性\n",
    "    def number_of_wheels(self,number):\n",
    "        self._number_of_wheels=number\n",
    "    def make_noise(self):\n",
    "        print(\"VRUUUUUUUM\")\n",
    "\n",
    "tesla_models_s_1=Vechicle_1(4,\"electric\",5,250)\n",
    "print(tesla_models_s_1.number_of_wheels)\n",
    "tesla_models_s_1.number_of_wheels=2\n",
    "print(tesla_models_s_1.number_of_wheels)\n",
    "print(tesla_models_s_1.make_noise())"
   ]
  },
  {
   "cell_type": "markdown",
   "metadata": {
    "collapsed": true
   },
   "source": [
    "# 06封装：隐藏信息"
   ]
  },
  {
   "cell_type": "code",
   "execution_count": 23,
   "metadata": {
    "collapsed": false
   },
   "outputs": [
    {
     "name": "stdout",
     "output_type": "stream",
     "text": [
      "TK\n",
      "Kaio\n"
     ]
    }
   ],
   "source": [
    "#公开实例变量\n",
    "class Person:\n",
    "    def __init__(self,first_name):\n",
    "        self.first_name=first_name\n",
    "tk=Person(\"TK\")\n",
    "print(tk.first_name)\n",
    "tk.first_name=\"Kaio\"\n",
    "print(tk.first_name)"
   ]
  },
  {
   "cell_type": "code",
   "execution_count": 24,
   "metadata": {
    "collapsed": false
   },
   "outputs": [
    {
     "name": "stdout",
     "output_type": "stream",
     "text": [
      "new_tk@mail.com\n"
     ]
    }
   ],
   "source": [
    "#私有实例变量\n",
    "class Person:\n",
    "    def __init__(self,first_name,email):\n",
    "        self.first_name=first_name\n",
    "        self._email=email\n",
    "    def get_email(self):\n",
    "        return self._email\n",
    "    def update_email(self,email):\n",
    "        self._email=email\n",
    "tk=Person(\"TK\",\"tk@mail.com\")\n",
    "tk.update_email(\"new_tk@mail.com\")\n",
    "print(tk.get_email())"
   ]
  },
  {
   "cell_type": "code",
   "execution_count": 25,
   "metadata": {
    "collapsed": false
   },
   "outputs": [
    {
     "name": "stdout",
     "output_type": "stream",
     "text": [
      "24\n"
     ]
    }
   ],
   "source": [
    "#公有方法\n",
    "class Person:\n",
    "    def __init__(self,first_name,age):\n",
    "        self.first_name=first_name\n",
    "        self._age=age\n",
    "    def show_age(self):\n",
    "        return self._age\n",
    "tk=Person(\"TK\",24)\n",
    "print(tk.show_age())"
   ]
  },
  {
   "cell_type": "code",
   "execution_count": 26,
   "metadata": {
    "collapsed": false
   },
   "outputs": [
    {
     "name": "stdout",
     "output_type": "stream",
     "text": [
      "24\n"
     ]
    }
   ],
   "source": [
    "#私有方法\n",
    "class Person:\n",
    "    def __init__(self,first_name,age):\n",
    "        self.first_name=first_name\n",
    "        self._age=age\n",
    "    def _show_age(self):\n",
    "        return self._age\n",
    "    def show_age(self):\n",
    "        return self._show_age() #此处的self不要少了\n",
    "tk=Person(\"TK\",24)\n",
    "print(tk.show_age())"
   ]
  },
  {
   "cell_type": "code",
   "execution_count": 27,
   "metadata": {
    "collapsed": false
   },
   "outputs": [
    {
     "name": "stdout",
     "output_type": "stream",
     "text": [
      "4\n",
      "5\n",
      "250\n"
     ]
    }
   ],
   "source": [
    "#继承\n",
    "class Car:#父类\n",
    "    def __init__(self,number_of_wheels,seating_capacity,maximum_velocity):\n",
    "        self.number_of_wheels=number_of_wheels\n",
    "        self.seating_capacity=seating_capacity\n",
    "        self.maximum_velocity=maximum_velocity\n",
    "class ElectricCar(Car):#派生类\n",
    "    def __init(self,number_of_wheels_1,seating_capacity_1,maximum_velocity_1):\n",
    "        Car.__init__(self,number_of_wheels_1,seating_capacity_1,maximum_velocity_1)  #利用父类进行初始化\n",
    "\n",
    "my_electric_car=ElectricCar(4,5,250)\n",
    "print(my_electric_car.number_of_wheels)\n",
    "print(my_electric_car.seating_capacity)\n",
    "print(my_electric_car.maximum_velocity)"
   ]
  },
  {
   "cell_type": "code",
   "execution_count": null,
   "metadata": {
    "collapsed": true
   },
   "outputs": [],
   "source": []
  }
 ],
 "metadata": {
  "anaconda-cloud": {},
  "celltoolbar": "Raw Cell Format",
  "kernelspec": {
   "display_name": "Python [conda env:tensorFlow]",
   "language": "python",
   "name": "conda-env-tensorFlow-py"
  },
  "language_info": {
   "codemirror_mode": {
    "name": "ipython",
    "version": 3
   },
   "file_extension": ".py",
   "mimetype": "text/x-python",
   "name": "python",
   "nbconvert_exporter": "python",
   "pygments_lexer": "ipython3",
   "version": "3.5.4"
  }
 },
 "nbformat": 4,
 "nbformat_minor": 1
}
